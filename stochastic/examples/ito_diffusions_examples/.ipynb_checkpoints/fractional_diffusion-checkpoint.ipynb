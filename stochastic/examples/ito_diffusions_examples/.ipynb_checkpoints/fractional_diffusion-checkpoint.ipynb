{
 "cells": [
  {
   "cell_type": "code",
   "execution_count": 1,
   "metadata": {},
   "outputs": [],
   "source": [
    "import numpy as np\n",
    "import matplotlib.pyplot as plt\n",
    "from ito_diffusions import *\n",
    "plt.style.use('dark_background')"
   ]
  },
  {
   "cell_type": "code",
   "execution_count": 2,
   "metadata": {},
   "outputs": [],
   "source": [
    "params = {\n",
    "    'font.size': 14,\n",
    "    'figure.figsize': (11,7),\n",
    "    'axes.labelsize': 12,\n",
    "    'xtick.labelsize': 12,\n",
    "    'ytick.labelsize': 12,\n",
    "}\n",
    "plt.rcParams.update(params)"
   ]
  },
  {
   "cell_type": "code",
   "execution_count": null,
   "metadata": {},
   "outputs": [],
   "source": [
    "T = 1.0\n",
    "SCHEME_STEPS = int(1e3)"
   ]
  },
  {
   "cell_type": "markdown",
   "metadata": {},
   "source": [
    "## Fractional Brownian motions\n",
    "\n",
    "* $H=\\frac{1}{2}$ : Brownian motion\n",
    "* $H<\\frac{1}{2}$ : mean-reverting, rougher sample paths\n",
    "* $H>\\frac{1}{2}$ : trend-following, smoother sample paths\n"
   ]
  },
  {
   "cell_type": "code",
   "execution_count": null,
   "metadata": {},
   "outputs": [],
   "source": [
    "X = FBM(x0=0, T=T, scheme_steps=SCHEME_STEPS, drift=0.0, vol=1.0)"
   ]
  },
  {
   "cell_type": "code",
   "execution_count": null,
   "metadata": {},
   "outputs": [],
   "source": [
    "fig, ax = plt.subplots(nrows=1, ncols=1)\n",
    "\n",
    "X = FBM(x0=0.0, T=T, scheme_steps=SCHEME_STEPS, drift=0.0, vol=1.0)\n",
    "\n",
    "Hs = [0.3, 0.4, 0.6, 0.9]\n",
    "\n",
    "for H in Hs:\n",
    "    X.H = H\n",
    "    df = X.simulate()\n",
    "    df = df.rename(columns={'spot': 'H={:.2f}'.format(H)})    \n",
    "    df.plot(kind='line', ax=ax)\n",
    "\n",
    "ax.set_xlabel('time')\n",
    "ax.set_ylabel('spot')\n",
    "ax.legend(loc='upper right')\n",
    "\n",
    "plt.tight_layout()\n",
    "plt.show()"
   ]
  },
  {
   "cell_type": "markdown",
   "metadata": {},
   "source": [
    "## Fractional Geometric Brownian motions"
   ]
  },
  {
   "cell_type": "code",
   "execution_count": null,
   "metadata": {},
   "outputs": [],
   "source": [
    "fig, ax = plt.subplots(nrows=1, ncols=1)\n",
    "\n",
    "X = GBM(x0=1.0, T=T, scheme_steps=SCHEME_STEPS, drift=0.0, vol=1.0)\n",
    "\n",
    "noise_params = {\n",
    "    'type': 'fgaussian',\n",
    "}\n",
    "\n",
    "Hs = [0.3, 0.4, 0.6, 0.9]\n",
    "\n",
    "for H in Hs:\n",
    "    noise_params['H'] = H\n",
    "    X.noise_params = noise_params\n",
    "    df = X.simulate()\n",
    "    df = df.rename(columns={'spot': 'H={:.2f}'.format(H)})    \n",
    "    df.plot(kind='line', ax=ax)\n",
    "    \n",
    "ax.set_xlabel('time')\n",
    "ax.set_ylabel('spot')\n",
    "ax.legend(loc='upper right')\n",
    "\n",
    "plt.tight_layout()\n",
    "plt.show()"
   ]
  },
  {
   "cell_type": "markdown",
   "metadata": {},
   "source": [
    "## Fractional Vasicek"
   ]
  },
  {
   "cell_type": "code",
   "execution_count": null,
   "metadata": {},
   "outputs": [],
   "source": [
    "fig, ax = plt.subplots(nrows=1, ncols=1)\n",
    "\n",
    "X = Vasicek(x0=0.0, T=T, scheme_steps=SCHEME_STEPS, mean_reversion=1.0, long_term=0.0)\n",
    "\n",
    "noise_params = {\n",
    "    'type': 'fgaussian',\n",
    "}\n",
    "\n",
    "Hs = [0.3, 0.4, 0.6, 0.9]\n",
    "\n",
    "for H in Hs:\n",
    "    noise_params['H'] = H\n",
    "    X.noise_params = noise_params\n",
    "    df = X.simulate()\n",
    "    df = df.rename(columns={'spot': 'H={:.2f}'.format(H)})    \n",
    "    df.plot(kind='line', ax=ax)\n",
    "\n",
    "ax.set_xlabel('time')\n",
    "ax.set_ylabel('spot')\n",
    "ax.legend(loc='upper right')\n",
    "\n",
    "plt.tight_layout()\n",
    "plt.show()"
   ]
  },
  {
   "cell_type": "markdown",
   "metadata": {},
   "source": [
    "## Fractional CIR"
   ]
  },
  {
   "cell_type": "code",
   "execution_count": null,
   "metadata": {},
   "outputs": [],
   "source": [
    "fig, ax = plt.subplots(nrows=1, ncols=1)\n",
    "\n",
    "X = CIR(x0=100.0, T=T, scheme_steps=SCHEME_STEPS, mean_reversion=1.0, long_term=100.0)\n",
    "\n",
    "noise_params = {\n",
    "    'type': 'fgaussian',\n",
    "}\n",
    "\n",
    "Hs = [0.3, 0.4, 0.6, 0.9]\n",
    "\n",
    "for H in Hs:\n",
    "    noise_params['H'] = H\n",
    "    X.noise_params = noise_params\n",
    "    df = X.simulate()\n",
    "    df = df.rename(columns={'spot': 'H={:.2f}'.format(H)})    \n",
    "    df.plot(kind='line', ax=ax)\n",
    "\n",
    "ax.set_xlabel('time')\n",
    "ax.set_ylabel('spot')\n",
    "ax.legend(loc='upper right')\n",
    "\n",
    "plt.tight_layout()\n",
    "plt.show()"
   ]
  }
 ],
 "metadata": {
  "kernelspec": {
   "display_name": "Python 3",
   "language": "python",
   "name": "python3"
  },
  "language_info": {
   "codemirror_mode": {
    "name": "ipython",
    "version": 3
   },
   "file_extension": ".py",
   "mimetype": "text/x-python",
   "name": "python",
   "nbconvert_exporter": "python",
   "pygments_lexer": "ipython3",
   "version": "3.7.3"
  }
 },
 "nbformat": 4,
 "nbformat_minor": 2
}
