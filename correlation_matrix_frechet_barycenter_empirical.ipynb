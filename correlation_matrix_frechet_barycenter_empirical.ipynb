{
 "cells": [
  {
   "cell_type": "code",
   "execution_count": 1,
   "metadata": {},
   "outputs": [],
   "source": [
    "import matplotlib.pyplot as plt\n",
    "import seaborn as sns\n",
    "\n",
    "from corr_lib import *"
   ]
  },
  {
   "cell_type": "markdown",
   "metadata": {},
   "source": [
    "### Correlation matrix mean as the Frechet barycenter w.r.t 2-Wasserstein distance between centered Gaussian\n",
    "\n",
    "Frechet barycenter of a family of measures $(\\mu_l)_{l=1}^k$ with weights $(\\lambda_l)_{l=1}^k$ in the $k$-simplex is defined as \n",
    "$$\n",
    "\\mu^* = \\min_{\\mu} \\sum_{l=1}^k \\lambda_l W_2^2(\\mu, \\mu_l).\n",
    "$$\n",
    "\n",
    "For discreate measures $\\mu_l = \\sum_{i=1}^n m^l_i \\delta_{x_i}$ (typically empirical distributions), this can be solved by a linear program ($W_2$ itself being the result of a linear minimization problem):\n",
    "\n",
    "$$\n",
    "\\begin{align}\n",
    "\\min & \\sum_{l=1}^k \\sum_{i,j=1}^n d(X_i, X_j)^2 \\pi^l_{ij} \\\\\n",
    "s.t & \\sum_{j=1}^n \\pi^l_{ij} = \\mu^*_i, \\\\\n",
    "& \\sum_{i=1}^n \\pi^l_{ij} = \\mu^l_i, \\\\\n",
    "& \\pi^l_{ij} \\geq 0.\n",
    "\\end{align}\n",
    "$$\n",
    "\n",
    "where $d(X_i, X_j)$ is the Euclidean distance between points in the cloud.\n",
    "\n",
    "One can therefore define the \"mean\" correlation between two empirical correlation matrices as the correlation matrix of their Frechet barycenter. Similarly, using varying weights, one can define a geodesic path in the empirical correlation manifold."
   ]
  },
  {
   "cell_type": "code",
   "execution_count": 2,
   "metadata": {},
   "outputs": [],
   "source": [
    "N = 20\n",
    "T = 100\n",
    "\n",
    "# point cloud\n",
    "X_corr = random_corr_matrix(N, id_mixing=0.3)\n",
    "X = np.concatenate(\n",
    "    [\n",
    "        # support of indenpendant Gaussian\n",
    "        np.random.multivariate_normal(np.zeros(N), np.eye(N), T),\n",
    "        # support of correlated Gaussian\n",
    "        np.random.multivariate_normal(np.zeros(N), X_corr, T),\n",
    "    ],\n",
    "    axis=0\n",
    ")\n",
    "\n",
    "### weights\n",
    "# only put weights on the independant Gaussian\n",
    "a = np.concatenate([np.ones(T), np.zeros(T)]) / T\n",
    "# only put weights on the correlated Gaussian\n",
    "b = np.concatenate([np.zeros(T), np.ones(T)]) / T\n",
    "\n",
    "weights = np.stack([a, b], axis=1)\n",
    "\n",
    "# correlation matrices\n",
    "A = weighted_correlation(X, a)\n",
    "B = weighted_correlation(X, b)"
   ]
  },
  {
   "cell_type": "code",
   "execution_count": 3,
   "metadata": {},
   "outputs": [],
   "source": [
    "bar = empirical_frechet_barycenter(X, weights, eps_abs=5e-4, eps_rel=5e-4, verbose=False)\n",
    "Kbar = weighted_correlation(X, bar)"
   ]
  },
  {
   "cell_type": "code",
   "execution_count": 4,
   "metadata": {},
   "outputs": [
    {
     "data": {
      "image/png": "[encoded data removed]",
      "text/plain": [
       "<Figure size 1008x504 with 4 Axes>"
      ]
     },
     "metadata": {
      "needs_background": "light"
     },
     "output_type": "display_data"
    }
   ],
   "source": [
    "fig, axes = plt.subplots(figsize=(14, 7), nrows=1, ncols=3)\n",
    "ax = axes[0]\n",
    "im = ax.imshow(A)\n",
    "clim=im.properties()['clim']\n",
    "\n",
    "ax = axes[1]\n",
    "ax.imshow(B, clim=clim)\n",
    "\n",
    "ax = axes[2]\n",
    "ax.imshow(Kbar, clim=clim)\n",
    "\n",
    "fig.colorbar(im, ax=axes.ravel().tolist(), shrink=0.5)\n",
    "\n",
    "plt.show()"
   ]
  },
  {
   "cell_type": "code",
   "execution_count": null,
   "metadata": {},
   "outputs": [],
   "source": []
  }
 ],
 "metadata": {
  "kernelspec": {
   "display_name": "Python 3",
   "language": "python",
   "name": "python3"
  },
  "language_info": {
   "codemirror_mode": {
    "name": "ipython",
    "version": 3
   },
   "file_extension": ".py",
   "mimetype": "text/x-python",
   "name": "python",
   "nbconvert_exporter": "python",
   "pygments_lexer": "ipython3",
   "version": "3.7.4"
  }
 },
 "nbformat": 4,
 "nbformat_minor": 2
}
