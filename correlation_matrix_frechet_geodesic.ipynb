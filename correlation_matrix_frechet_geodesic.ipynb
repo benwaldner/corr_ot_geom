{
 "cells": [
  {
   "cell_type": "code",
   "execution_count": 1,
   "metadata": {},
   "outputs": [],
   "source": [
    "import matplotlib.pyplot as plt\n",
    "from matplotlib import animation, cm\n",
    "\n",
    "from corr_lib import *"
   ]
  },
  {
   "cell_type": "markdown",
   "metadata": {},
   "source": [
    "### Show a geodesic path"
   ]
  },
  {
   "cell_type": "code",
   "execution_count": 2,
   "metadata": {},
   "outputs": [
    {
     "data": {
      "image/png": "[encoded data removed]",
      "text/plain": [
       "<Figure size 432x288 with 1 Axes>"
      ]
     },
     "metadata": {
      "needs_background": "light"
     },
     "output_type": "display_data"
    }
   ],
   "source": [
    "d = 10\n",
    "\n",
    "# A = single_corr_matrix(d, 0.0)\n",
    "# B = single_corr_matrix(d, 0.9)\n",
    "\n",
    "A = random_corr_matrix(d, id_mixing=0.7)\n",
    "B = random_corr_matrix(d, id_mixing=0.3)\n",
    "\n",
    "fig = plt.figure()\n",
    "\n",
    "frames = 30\n",
    "filename = 'frechet_geodesic.gif'\n",
    "interval = 50\n",
    "colormap = 'viridis'\n",
    "\n",
    "Kbar = A\n",
    "im = plt.imshow(A, interpolation='none', animated=True)\n",
    "\n",
    "def init():\n",
    "    Kbar = frechet_barycenter_corr([A, B], weights=[1, 0], force_corr=True, ord='wasserstein', verbose=False)\n",
    "    im.set_data(Kbar)\n",
    "    return [im]\n",
    "\n",
    "def animate(i):\n",
    "    w = i/frames\n",
    "    Kbar = frechet_barycenter_corr([A, B], weights=[1-w, w], force_corr=True, ord='wasserstein', verbose=False)\n",
    "    im.set_array(getattr(cm, colormap)(Kbar))\n",
    "    return [im]\n",
    "\n",
    "plt.axis('off')\n",
    "anim = animation.FuncAnimation(fig, animate, init_func=init, frames=frames,\n",
    "                                interval=interval, blit=True, repeat=True)\n",
    "\n",
    "anim.save(filename, writer='imagemagick')"
   ]
  },
  {
   "cell_type": "code",
   "execution_count": null,
   "metadata": {},
   "outputs": [],
   "source": []
  }
 ],
 "metadata": {
  "kernelspec": {
   "display_name": "Python 3",
   "language": "python",
   "name": "python3"
  },
  "language_info": {
   "codemirror_mode": {
    "name": "ipython",
    "version": 3
   },
   "file_extension": ".py",
   "mimetype": "text/x-python",
   "name": "python",
   "nbconvert_exporter": "python",
   "pygments_lexer": "ipython3",
   "version": "3.7.4"
  }
 },
 "nbformat": 4,
 "nbformat_minor": 2
}
